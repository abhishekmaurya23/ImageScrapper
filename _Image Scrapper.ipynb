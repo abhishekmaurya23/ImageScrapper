{
 "cells": [
  {
   "cell_type": "markdown",
   "id": "09b8e196-bbaf-4712-917b-b5dcbe74e6e5",
   "metadata": {},
   "source": [
    "Ans 1\n",
    "To extract the video URLs of the first five videos from a webpage, you can use a combination of web scraping and regular expressions in Python. Here's an example program that demonstrates this:\n",
    "\n",
    "```python\n",
    "import requests\n",
    "import re\n",
    "\n",
    "def extract_video_urls(url):\n",
    "    response = requests.get(url)\n",
    "    html_content = response.text\n",
    "\n",
    "    video_urls = re.findall(r'https?://(?:[^\\s<>\"]+|www\\.[^\\s<>\"]+)', html_content)\n",
    "\n",
    "    return video_urls[:5]  # Extract the first five video URLs\n",
    "\n",
    "# Example usage\n",
    "url = 'https://example.com'  # Replace with the actual webpage URL\n",
    "video_urls = extract_video_urls(url)\n",
    "\n",
    "# Print the extracted video URLs\n",
    "for i, video_url in enumerate(video_urls, start=1):\n",
    "    print(f\"Video {i}: {video_url}\")\n",
    "```\n",
    "\n",
    "In this example, we define the `extract_video_urls()` function that takes a URL as input and uses the `requests` library to fetch the HTML content of the webpage. Then, we use a regular expression (`re.findall()`) to extract all the URLs from the HTML content. Finally, we return the first five video URLs.\n",
    "\n",
    "To use this program, replace the `url` variable with the actual URL of the webpage you want to extract video URLs from. Running the program will display the URLs of the first five videos found on the webpage.\n",
    "\n",
    "Please note that the effectiveness of this program may vary depending on the webpage structure and how the video URLs are embedded within it. You may need to adjust the regular expression pattern or employ additional parsing techniques if the video URLs are not easily identifiable using simple regular expressions."
   ]
  },
  {
   "cell_type": "markdown",
   "id": "3bb27a82-3ee8-43b6-9ca4-ddaaf22fe277",
   "metadata": {},
   "source": [
    "Ans 2\n",
    "Certainly! Here's an example Python program using the BeautifulSoup library to extract the URLs of the video thumbnails from the first five videos on a YouTube page:\n",
    "\n",
    "```python\n",
    "import requests\n",
    "from bs4 import BeautifulSoup\n",
    "\n",
    "def extract_video_thumbnails(url):\n",
    "    response = requests.get(url)\n",
    "    soup = BeautifulSoup(response.text, 'html.parser')\n",
    "    video_elements = soup.select('a.yt-simple-endpoint.style-scope.ytd-thumbnail')\n",
    "    \n",
    "    thumbnails = []\n",
    "    for video_element in video_elements[:5]:\n",
    "        thumbnail_url = video_element.find('img')['src']\n",
    "        thumbnails.append(thumbnail_url)\n",
    "    \n",
    "    return thumbnails\n",
    "\n",
    "# Example usage - extracting thumbnails from the first five videos on a YouTube page\n",
    "youtube_url = \"https://www.youtube.com/\"\n",
    "thumbnails = extract_video_thumbnails(youtube_url)\n",
    "\n",
    "# Printing the extracted thumbnail URLs\n",
    "for thumbnail in thumbnails:\n",
    "    print(thumbnail)\n",
    "```\n",
    "\n",
    "Make sure you have the BeautifulSoup library installed (`pip install beautifulsoup4`) before running the program. The program uses the `requests` library to fetch the HTML content of the YouTube page and then utilizes BeautifulSoup to parse the HTML and extract the thumbnail URLs. The `select()` method is used to identify the appropriate elements containing the thumbnail URLs, and then the URLs are extracted using the `find()` method. Finally, the program prints the URLs of the first five video thumbnails found on the page.\n",
    "\n",
    "Note that the program assumes that the video thumbnails on the YouTube page are enclosed within `<a>` elements with specific CSS classes (`yt-simple-endpoint`, `style-scope`, `ytd-thumbnail`). You may need to adjust the CSS selector based on the structure of the YouTube page you are targeting."
   ]
  },
  {
   "cell_type": "code",
   "execution_count": null,
   "id": "82948039-b8e5-407a-87ae-b25af50cae83",
   "metadata": {},
   "outputs": [],
   "source": [
    "Ans 3\n"
   ]
  },
  {
   "cell_type": "code",
   "execution_count": null,
   "id": "098aa19c-2149-4ec0-92ef-d0dfcffa0f05",
   "metadata": {},
   "outputs": [],
   "source": []
  }
 ],
 "metadata": {
  "kernelspec": {
   "display_name": "Python 3 (ipykernel)",
   "language": "python",
   "name": "python3"
  },
  "language_info": {
   "codemirror_mode": {
    "name": "ipython",
    "version": 3
   },
   "file_extension": ".py",
   "mimetype": "text/x-python",
   "name": "python",
   "nbconvert_exporter": "python",
   "pygments_lexer": "ipython3",
   "version": "3.10.6"
  }
 },
 "nbformat": 4,
 "nbformat_minor": 5
}
